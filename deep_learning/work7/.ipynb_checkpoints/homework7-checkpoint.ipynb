{
 "cells": [
  {
   "attachments": {},
   "cell_type": "markdown",
   "id": "c1c87e63",
   "metadata": {
    "origin_pos": 40
   },
   "source": [
    "## 作业七\n"
   ]
  },
  {
   "attachments": {},
   "cell_type": "markdown",
   "id": "30840110",
   "metadata": {},
   "source": [
    "1. 在`gru.ipynb`中, 如果仅仅实现门控循环单元的一部分，例如，只有一个重置门或一个更新门会怎样？"
   ]
  },
  {
   "cell_type": "code",
   "execution_count": null,
   "id": "a9d82d89",
   "metadata": {},
   "outputs": [],
   "source": []
  },
  {
   "attachments": {},
   "cell_type": "markdown",
   "id": "fd5c12e8",
   "metadata": {},
   "source": [
    "2. 利用2021年7月1日-2021年12月30日的温度数据, 基于RNN, GRU或LSTM模型对2021年12月31日全天的温度(`不少于100个点`)进行预测(Source: `weather.csv`)。绘制预测温度曲线, 并计算预测结果的RMSE误差。"
   ]
  },
  {
   "cell_type": "code",
   "execution_count": null,
   "id": "c1fff555",
   "metadata": {},
   "outputs": [],
   "source": []
  }
 ],
 "metadata": {
  "kernelspec": {
   "display_name": "Python 3",
   "language": "python",
   "name": "python3"
  },
  "language_info": {
   "codemirror_mode": {
    "name": "ipython",
    "version": 3
   },
   "file_extension": ".py",
   "mimetype": "text/x-python",
   "name": "python",
   "nbconvert_exporter": "python",
   "pygments_lexer": "ipython3",
   "version": "3.11.10"
  },
  "required_libs": []
 },
 "nbformat": 4,
 "nbformat_minor": 5
}
