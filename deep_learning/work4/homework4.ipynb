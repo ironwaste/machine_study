{
 "cells": [
  {
   "attachments": {},
   "cell_type": "markdown",
   "id": "d5041f47",
   "metadata": {
    "origin_pos": 19
   },
   "source": [
    "### 作业四(注:若涉及到随机数生成,随机数种子固定为`学号后两位`)"
   ]
  },
  {
   "attachments": {},
   "cell_type": "markdown",
   "id": "109c3039",
   "metadata": {},
   "source": [
    "##### 一、构建一个具有对角线边缘的图像`X`。\n",
    "    1. 如果将`conv-layer.ipynb`中举例的卷积核`K`应用于`X`，会发生什么情况？\n",
    "    2. 如果转置`X`会发生什么？\n",
    "    3. 如果转置`K`会发生什么？"
   ]
  },
  {
   "cell_type": "code",
   "execution_count": null,
   "id": "2fb252d6",
   "metadata": {},
   "outputs": [],
   "source": []
  },
  {
   "attachments": {},
   "cell_type": "markdown",
   "id": "6c674015",
   "metadata": {},
   "source": [
    "#### 二、针对农业害虫分类任务（数据见附件,训练集70%,测试集30%）, 完成下列要求：1.通过类继承的方式自定义一个卷积神经网络(输入层填充大小设为2，并包含$1 \\times 1$卷积层)；2.划分训练集和测试集，并构建训练数据和测试数据加载器；3.选取合适的损失函数和优化器；4.完成神经网络的训练(有GPU的在GPU上训练),绘制训练loss曲线；5.给出一组测试结果的可视化样例；6.保存模型参数；7.加载模型参数."
   ]
  },
  {
   "cell_type": "code",
   "execution_count": 3,
   "id": "ccefc12f",
   "metadata": {},
   "outputs": [],
   "source": []
  }
 ],
 "metadata": {
  "kernelspec": {
   "display_name": "Python 3",
   "language": "python",
   "name": "python3"
  },
  "language_info": {
   "codemirror_mode": {
    "name": "ipython",
    "version": 3
   },
   "file_extension": ".py",
   "mimetype": "text/x-python",
   "name": "python",
   "nbconvert_exporter": "python",
   "pygments_lexer": "ipython3",
   "version": "3.10.6 (tags/v3.10.6:9c7b4bd, Aug  1 2022, 21:53:49) [MSC v.1932 64 bit (AMD64)]"
  },
  "required_libs": [],
  "vscode": {
   "interpreter": {
    "hash": "807cc6a481f25a5b222cd58a3949a299ed2f2634387eaba6775d5c01f71eeb59"
   }
  }
 },
 "nbformat": 4,
 "nbformat_minor": 5
}
