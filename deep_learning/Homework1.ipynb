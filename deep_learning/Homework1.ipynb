{
 "cells": [
  {
   "attachments": {},
   "cell_type": "markdown",
   "id": "ab73852c",
   "metadata": {
    "origin_pos": 0
   },
   "source": [
    "1. 利用pandas创建包含更多行和列的原始数据集(**创建一个人工数据集，并存储在CSV（逗号分隔值）文件**)。\\\n",
    "(1) 删除缺失值最多的列。\\\n",
    "(2) 将预处理后的数据集转换为tensor格式。\\\n",
    "(3) 利用PyTorch的函数计算数据集第一列数据的$L_1$和$L_2$范数。\\\n",
    "(4) 计算数据集第一列和第二列数据的内积。"
   ]
  },
  {
   "attachments": {},
   "cell_type": "markdown",
   "id": "0fce2ea4",
   "metadata": {},
   "source": [
    "2. 给出两个矩阵$A$和$B$，证明“它们转置的和”等于“它们和的转置”，即$A^T+B^T=(A+B)^T$"
   ]
  },
  {
   "attachments": {},
   "cell_type": "markdown",
   "id": "1f865046",
   "metadata": {},
   "source": [
    "3. `A = torch.arange(20, dtype=torch.float32).reshape(5, 4)`, 运行`A/A.sum(axis=1)`，看看会发生什么。请分析一下原因？"
   ]
  },
  {
   "attachments": {},
   "cell_type": "markdown",
   "id": "e4ca78a5",
   "metadata": {},
   "source": [
    "4. 生成一个形状为$(2,3,4)$服从标准正态分布的tensor $A$，对$A$在轴0、1、2上的分别求和，输出的结果是什么形状?"
   ]
  },
  {
   "attachments": {},
   "cell_type": "markdown",
   "id": "ad3f2120",
   "metadata": {},
   "source": [
    "5. 使$f(x)=\\sin(x+k)+\\exp(\\sqrt{k}x)+\\cos(x-k)$，利用torch自动微分绘制$f(x)$和$\\frac{df(x)}{dx}$的图像, $x$的取值范围为$x\\in[0, 10]$, $k$为`学号`最后两位数。"
   ]
  }
 ],
 "metadata": {
  "kernelspec": {
   "display_name": "Python 3 (ipykernel)",
   "language": "python",
   "name": "python3"
  },
  "language_info": {
   "codemirror_mode": {
    "name": "ipython",
    "version": 3
   },
   "file_extension": ".py",
   "mimetype": "text/x-python",
   "name": "python",
   "nbconvert_exporter": "python",
   "pygments_lexer": "ipython3",
   "version": "3.12.7"
  },
  "required_libs": [],
  "vscode": {
   "interpreter": {
    "hash": "807cc6a481f25a5b222cd58a3949a299ed2f2634387eaba6775d5c01f71eeb59"
   }
  }
 },
 "nbformat": 4,
 "nbformat_minor": 5
}
