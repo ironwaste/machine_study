{
 "cells": [
  {
   "attachments": {},
   "cell_type": "markdown",
   "id": "ab73852c",
   "metadata": {
    "origin_pos": 0
   },
   "source": [
    "1. 利用pandas创建包含更多行和列的原始数据集(**创建一个人工数据集，并存储在CSV（逗号分隔值）文件**)。\\\n",
    "(1) 删除缺失值最多的列。\\\n",
    "(2) 将预处理后的数据集转换为tensor格式。\\\n",
    "(3) 利用PyTorch的函数计算数据集第一列数据的$L_1$和$L_2$范数。\\\n",
    "(4) 计算数据集第一列和第二列数据的内积。"
   ]
  },
  {
   "cell_type": "code",
   "execution_count": 20,
   "id": "3920a0dc-700d-4926-834d-0ebc8250ae0a",
   "metadata": {},
   "outputs": [
    {
     "data": {
      "text/plain": [
       "tensor([[ 1.,  2.,  3.,  4.,  5.],\n",
       "        [ 6.,  7.,  8.,  9., 10.],\n",
       "        [11., 12., 13., 14., 15.],\n",
       "        [16., 17., 18., 19., 20.],\n",
       "        [21., 22., 23., 24., 25.],\n",
       "        [26., 27., 28., 29., 30.]])"
      ]
     },
     "execution_count": 20,
     "metadata": {},
     "output_type": "execute_result"
    }
   ],
   "source": [
    "import torch\n",
    "import pandas as pd\n",
    "import numpy as np\n",
    "arr_2d = np.arange(1, 31).reshape((6, 5))              # 创建二维数组\n",
    "df_obj = pd.DataFrame(data=arr_2d)    # 根据二维数组创建DataFrame类的对象\n",
    "\n",
    "tensor_obj = torch.tensor(df_obj.values,dtype=torch.float32)\n",
    "tensor_obj"
   ]
  },
  {
   "cell_type": "code",
   "execution_count": 22,
   "id": "c3b3e421-89ec-46a9-9fad-d1a84e5e1797",
   "metadata": {},
   "outputs": [
    {
     "name": "stdout",
     "output_type": "stream",
     "text": [
      "L2-- : tensor(7.4162)\n"
     ]
    }
   ],
   "source": [
    "u = tensor_obj[0]\n",
    "u = u.T\n",
    "k = torch.tensor([3.0,4.0])\n",
    "# torch.norm(k)\n",
    "# u\n",
    "# k\n",
    "torch.norm(u)\n",
    "print('L2-- : ' +str(torch.norm(u)) )"
   ]
  },
  {
   "cell_type": "code",
   "execution_count": 24,
   "id": "44a8a25d-ef9c-4441-bfbf-7abef9d9ccee",
   "metadata": {},
   "outputs": [
    {
     "name": "stdout",
     "output_type": "stream",
     "text": [
      "L1-- : tensor(15.)\n"
     ]
    }
   ],
   "source": [
    "print('L1-- : ' +str(torch.abs(u).sum()))"
   ]
  },
  {
   "cell_type": "markdown",
   "id": "a260fd65-39cd-4e7f-9144-716519831246",
   "metadata": {},
   "source": [
    "\n",
    "> RuntimeError: linalg.vector_norm: Expected a floating point or complex tensor as input. Got Int\n",
    "需要将 张量转换为 torch.float32 的格式 才能够去计算范数 \n"
   ]
  },
  {
   "cell_type": "code",
   "execution_count": 26,
   "id": "e5071f4f-bf8a-4b4b-9f63-dd045d24064a",
   "metadata": {},
   "outputs": [
    {
     "data": {
      "text/plain": [
       "1612.0"
      ]
     },
     "execution_count": 26,
     "metadata": {},
     "output_type": "execute_result"
    }
   ],
   "source": [
    "# 计算内积 也就是点积 直接标量相乘\n",
    "dot_product = torch.dot(tensor_obj[:,0],tensor_obj[:,1])\n",
    "dot_product.item()"
   ]
  },
  {
   "cell_type": "code",
   "execution_count": 28,
   "id": "7e299b71-7fe6-4338-bc9b-fb8778413ab1",
   "metadata": {},
   "outputs": [
    {
     "ename": "OSError",
     "evalue": "[Errno 22] Invalid argument: '.\\x07a.csv'",
     "output_type": "error",
     "traceback": [
      "\u001b[1;31m---------------------------------------------------------------------------\u001b[0m",
      "\u001b[1;31mOSError\u001b[0m                                   Traceback (most recent call last)",
      "Cell \u001b[1;32mIn[28], line 1\u001b[0m\n\u001b[1;32m----> 1\u001b[0m df_obj\u001b[38;5;241m.\u001b[39mto_csv(\u001b[38;5;124m'\u001b[39m\u001b[38;5;124m.\u001b[39m\u001b[38;5;130;01m\\a\u001b[39;00m\u001b[38;5;124ma.csv\u001b[39m\u001b[38;5;124m'\u001b[39m)\n",
      "File \u001b[1;32mE:\\myself-software\\anaconda\\Lib\\site-packages\\pandas\\util\\_decorators.py:333\u001b[0m, in \u001b[0;36mdeprecate_nonkeyword_arguments.<locals>.decorate.<locals>.wrapper\u001b[1;34m(*args, **kwargs)\u001b[0m\n\u001b[0;32m    327\u001b[0m \u001b[38;5;28;01mif\u001b[39;00m \u001b[38;5;28mlen\u001b[39m(args) \u001b[38;5;241m>\u001b[39m num_allow_args:\n\u001b[0;32m    328\u001b[0m     warnings\u001b[38;5;241m.\u001b[39mwarn(\n\u001b[0;32m    329\u001b[0m         msg\u001b[38;5;241m.\u001b[39mformat(arguments\u001b[38;5;241m=\u001b[39m_format_argument_list(allow_args)),\n\u001b[0;32m    330\u001b[0m         \u001b[38;5;167;01mFutureWarning\u001b[39;00m,\n\u001b[0;32m    331\u001b[0m         stacklevel\u001b[38;5;241m=\u001b[39mfind_stack_level(),\n\u001b[0;32m    332\u001b[0m     )\n\u001b[1;32m--> 333\u001b[0m \u001b[38;5;28;01mreturn\u001b[39;00m func(\u001b[38;5;241m*\u001b[39margs, \u001b[38;5;241m*\u001b[39m\u001b[38;5;241m*\u001b[39mkwargs)\n",
      "File \u001b[1;32mE:\\myself-software\\anaconda\\Lib\\site-packages\\pandas\\core\\generic.py:3967\u001b[0m, in \u001b[0;36mNDFrame.to_csv\u001b[1;34m(self, path_or_buf, sep, na_rep, float_format, columns, header, index, index_label, mode, encoding, compression, quoting, quotechar, lineterminator, chunksize, date_format, doublequote, escapechar, decimal, errors, storage_options)\u001b[0m\n\u001b[0;32m   3956\u001b[0m df \u001b[38;5;241m=\u001b[39m \u001b[38;5;28mself\u001b[39m \u001b[38;5;28;01mif\u001b[39;00m \u001b[38;5;28misinstance\u001b[39m(\u001b[38;5;28mself\u001b[39m, ABCDataFrame) \u001b[38;5;28;01melse\u001b[39;00m \u001b[38;5;28mself\u001b[39m\u001b[38;5;241m.\u001b[39mto_frame()\n\u001b[0;32m   3958\u001b[0m formatter \u001b[38;5;241m=\u001b[39m DataFrameFormatter(\n\u001b[0;32m   3959\u001b[0m     frame\u001b[38;5;241m=\u001b[39mdf,\n\u001b[0;32m   3960\u001b[0m     header\u001b[38;5;241m=\u001b[39mheader,\n\u001b[1;32m   (...)\u001b[0m\n\u001b[0;32m   3964\u001b[0m     decimal\u001b[38;5;241m=\u001b[39mdecimal,\n\u001b[0;32m   3965\u001b[0m )\n\u001b[1;32m-> 3967\u001b[0m \u001b[38;5;28;01mreturn\u001b[39;00m DataFrameRenderer(formatter)\u001b[38;5;241m.\u001b[39mto_csv(\n\u001b[0;32m   3968\u001b[0m     path_or_buf,\n\u001b[0;32m   3969\u001b[0m     lineterminator\u001b[38;5;241m=\u001b[39mlineterminator,\n\u001b[0;32m   3970\u001b[0m     sep\u001b[38;5;241m=\u001b[39msep,\n\u001b[0;32m   3971\u001b[0m     encoding\u001b[38;5;241m=\u001b[39mencoding,\n\u001b[0;32m   3972\u001b[0m     errors\u001b[38;5;241m=\u001b[39merrors,\n\u001b[0;32m   3973\u001b[0m     compression\u001b[38;5;241m=\u001b[39mcompression,\n\u001b[0;32m   3974\u001b[0m     quoting\u001b[38;5;241m=\u001b[39mquoting,\n\u001b[0;32m   3975\u001b[0m     columns\u001b[38;5;241m=\u001b[39mcolumns,\n\u001b[0;32m   3976\u001b[0m     index_label\u001b[38;5;241m=\u001b[39mindex_label,\n\u001b[0;32m   3977\u001b[0m     mode\u001b[38;5;241m=\u001b[39mmode,\n\u001b[0;32m   3978\u001b[0m     chunksize\u001b[38;5;241m=\u001b[39mchunksize,\n\u001b[0;32m   3979\u001b[0m     quotechar\u001b[38;5;241m=\u001b[39mquotechar,\n\u001b[0;32m   3980\u001b[0m     date_format\u001b[38;5;241m=\u001b[39mdate_format,\n\u001b[0;32m   3981\u001b[0m     doublequote\u001b[38;5;241m=\u001b[39mdoublequote,\n\u001b[0;32m   3982\u001b[0m     escapechar\u001b[38;5;241m=\u001b[39mescapechar,\n\u001b[0;32m   3983\u001b[0m     storage_options\u001b[38;5;241m=\u001b[39mstorage_options,\n\u001b[0;32m   3984\u001b[0m )\n",
      "File \u001b[1;32mE:\\myself-software\\anaconda\\Lib\\site-packages\\pandas\\io\\formats\\format.py:1014\u001b[0m, in \u001b[0;36mDataFrameRenderer.to_csv\u001b[1;34m(self, path_or_buf, encoding, sep, columns, index_label, mode, compression, quoting, quotechar, lineterminator, chunksize, date_format, doublequote, escapechar, errors, storage_options)\u001b[0m\n\u001b[0;32m    993\u001b[0m     created_buffer \u001b[38;5;241m=\u001b[39m \u001b[38;5;28;01mFalse\u001b[39;00m\n\u001b[0;32m    995\u001b[0m csv_formatter \u001b[38;5;241m=\u001b[39m CSVFormatter(\n\u001b[0;32m    996\u001b[0m     path_or_buf\u001b[38;5;241m=\u001b[39mpath_or_buf,\n\u001b[0;32m    997\u001b[0m     lineterminator\u001b[38;5;241m=\u001b[39mlineterminator,\n\u001b[1;32m   (...)\u001b[0m\n\u001b[0;32m   1012\u001b[0m     formatter\u001b[38;5;241m=\u001b[39m\u001b[38;5;28mself\u001b[39m\u001b[38;5;241m.\u001b[39mfmt,\n\u001b[0;32m   1013\u001b[0m )\n\u001b[1;32m-> 1014\u001b[0m csv_formatter\u001b[38;5;241m.\u001b[39msave()\n\u001b[0;32m   1016\u001b[0m \u001b[38;5;28;01mif\u001b[39;00m created_buffer:\n\u001b[0;32m   1017\u001b[0m     \u001b[38;5;28;01massert\u001b[39;00m \u001b[38;5;28misinstance\u001b[39m(path_or_buf, StringIO)\n",
      "File \u001b[1;32mE:\\myself-software\\anaconda\\Lib\\site-packages\\pandas\\io\\formats\\csvs.py:251\u001b[0m, in \u001b[0;36mCSVFormatter.save\u001b[1;34m(self)\u001b[0m\n\u001b[0;32m    247\u001b[0m \u001b[38;5;250m\u001b[39m\u001b[38;5;124;03m\"\"\"\u001b[39;00m\n\u001b[0;32m    248\u001b[0m \u001b[38;5;124;03mCreate the writer & save.\u001b[39;00m\n\u001b[0;32m    249\u001b[0m \u001b[38;5;124;03m\"\"\"\u001b[39;00m\n\u001b[0;32m    250\u001b[0m \u001b[38;5;66;03m# apply compression and byte/text conversion\u001b[39;00m\n\u001b[1;32m--> 251\u001b[0m \u001b[38;5;28;01mwith\u001b[39;00m get_handle(\n\u001b[0;32m    252\u001b[0m     \u001b[38;5;28mself\u001b[39m\u001b[38;5;241m.\u001b[39mfilepath_or_buffer,\n\u001b[0;32m    253\u001b[0m     \u001b[38;5;28mself\u001b[39m\u001b[38;5;241m.\u001b[39mmode,\n\u001b[0;32m    254\u001b[0m     encoding\u001b[38;5;241m=\u001b[39m\u001b[38;5;28mself\u001b[39m\u001b[38;5;241m.\u001b[39mencoding,\n\u001b[0;32m    255\u001b[0m     errors\u001b[38;5;241m=\u001b[39m\u001b[38;5;28mself\u001b[39m\u001b[38;5;241m.\u001b[39merrors,\n\u001b[0;32m    256\u001b[0m     compression\u001b[38;5;241m=\u001b[39m\u001b[38;5;28mself\u001b[39m\u001b[38;5;241m.\u001b[39mcompression,\n\u001b[0;32m    257\u001b[0m     storage_options\u001b[38;5;241m=\u001b[39m\u001b[38;5;28mself\u001b[39m\u001b[38;5;241m.\u001b[39mstorage_options,\n\u001b[0;32m    258\u001b[0m ) \u001b[38;5;28;01mas\u001b[39;00m handles:\n\u001b[0;32m    259\u001b[0m     \u001b[38;5;66;03m# Note: self.encoding is irrelevant here\u001b[39;00m\n\u001b[0;32m    260\u001b[0m     \u001b[38;5;28mself\u001b[39m\u001b[38;5;241m.\u001b[39mwriter \u001b[38;5;241m=\u001b[39m csvlib\u001b[38;5;241m.\u001b[39mwriter(\n\u001b[0;32m    261\u001b[0m         handles\u001b[38;5;241m.\u001b[39mhandle,\n\u001b[0;32m    262\u001b[0m         lineterminator\u001b[38;5;241m=\u001b[39m\u001b[38;5;28mself\u001b[39m\u001b[38;5;241m.\u001b[39mlineterminator,\n\u001b[1;32m   (...)\u001b[0m\n\u001b[0;32m    267\u001b[0m         quotechar\u001b[38;5;241m=\u001b[39m\u001b[38;5;28mself\u001b[39m\u001b[38;5;241m.\u001b[39mquotechar,\n\u001b[0;32m    268\u001b[0m     )\n\u001b[0;32m    270\u001b[0m     \u001b[38;5;28mself\u001b[39m\u001b[38;5;241m.\u001b[39m_save()\n",
      "File \u001b[1;32mE:\\myself-software\\anaconda\\Lib\\site-packages\\pandas\\io\\common.py:873\u001b[0m, in \u001b[0;36mget_handle\u001b[1;34m(path_or_buf, mode, encoding, compression, memory_map, is_text, errors, storage_options)\u001b[0m\n\u001b[0;32m    868\u001b[0m \u001b[38;5;28;01melif\u001b[39;00m \u001b[38;5;28misinstance\u001b[39m(handle, \u001b[38;5;28mstr\u001b[39m):\n\u001b[0;32m    869\u001b[0m     \u001b[38;5;66;03m# Check whether the filename is to be opened in binary mode.\u001b[39;00m\n\u001b[0;32m    870\u001b[0m     \u001b[38;5;66;03m# Binary mode does not support 'encoding' and 'newline'.\u001b[39;00m\n\u001b[0;32m    871\u001b[0m     \u001b[38;5;28;01mif\u001b[39;00m ioargs\u001b[38;5;241m.\u001b[39mencoding \u001b[38;5;129;01mand\u001b[39;00m \u001b[38;5;124m\"\u001b[39m\u001b[38;5;124mb\u001b[39m\u001b[38;5;124m\"\u001b[39m \u001b[38;5;129;01mnot\u001b[39;00m \u001b[38;5;129;01min\u001b[39;00m ioargs\u001b[38;5;241m.\u001b[39mmode:\n\u001b[0;32m    872\u001b[0m         \u001b[38;5;66;03m# Encoding\u001b[39;00m\n\u001b[1;32m--> 873\u001b[0m         handle \u001b[38;5;241m=\u001b[39m \u001b[38;5;28mopen\u001b[39m(\n\u001b[0;32m    874\u001b[0m             handle,\n\u001b[0;32m    875\u001b[0m             ioargs\u001b[38;5;241m.\u001b[39mmode,\n\u001b[0;32m    876\u001b[0m             encoding\u001b[38;5;241m=\u001b[39mioargs\u001b[38;5;241m.\u001b[39mencoding,\n\u001b[0;32m    877\u001b[0m             errors\u001b[38;5;241m=\u001b[39merrors,\n\u001b[0;32m    878\u001b[0m             newline\u001b[38;5;241m=\u001b[39m\u001b[38;5;124m\"\u001b[39m\u001b[38;5;124m\"\u001b[39m,\n\u001b[0;32m    879\u001b[0m         )\n\u001b[0;32m    880\u001b[0m     \u001b[38;5;28;01melse\u001b[39;00m:\n\u001b[0;32m    881\u001b[0m         \u001b[38;5;66;03m# Binary mode\u001b[39;00m\n\u001b[0;32m    882\u001b[0m         handle \u001b[38;5;241m=\u001b[39m \u001b[38;5;28mopen\u001b[39m(handle, ioargs\u001b[38;5;241m.\u001b[39mmode)\n",
      "\u001b[1;31mOSError\u001b[0m: [Errno 22] Invalid argument: '.\\x07a.csv'"
     ]
    }
   ],
   "source": [
    "df_obj.to_csv('.\\aa.csv')"
   ]
  },
  {
   "attachments": {},
   "cell_type": "markdown",
   "id": "0fce2ea4",
   "metadata": {},
   "source": [
    "2. 给出两个矩阵$A$和$B$，证明“它们转置的和”等于“它们和的转置”，即$A^T+B^T=(A+B)^T$"
   ]
  },
  {
   "cell_type": "code",
   "execution_count": 29,
   "id": "0695481d-9242-44d4-aba6-dfff8da9961f",
   "metadata": {},
   "outputs": [
    {
     "name": "stdout",
     "output_type": "stream",
     "text": [
      "True\n"
     ]
    }
   ],
   "source": [
    "import torch\n",
    "import numpy as np\n",
    "\n",
    "A = np.random.rand(3, 4)  # 3x4 矩阵\n",
    "B = np.random.rand(3, 4)  \n",
    "\n",
    "abt = (A + B).T\n",
    "atbt = A.T + B.T\n",
    "\n",
    "equal = np.array_equal(abt,atbt)\n",
    "\n",
    "print(equal)\n"
   ]
  },
  {
   "attachments": {},
   "cell_type": "markdown",
   "id": "1f865046",
   "metadata": {},
   "source": [
    "3. `A = torch.arange(20, dtype=torch.float32).reshape(5, 4)`, 运行`A/A.sum(axis=1)`，看看会发生什么。请分析一下原因？"
   ]
  },
  {
   "cell_type": "code",
   "execution_count": 31,
   "id": "7bd9143e-e924-43b5-98ed-9030750db8f6",
   "metadata": {},
   "outputs": [
    {
     "ename": "RuntimeError",
     "evalue": "The size of tensor a (4) must match the size of tensor b (5) at non-singleton dimension 1",
     "output_type": "error",
     "traceback": [
      "\u001b[1;31m---------------------------------------------------------------------------\u001b[0m",
      "\u001b[1;31mRuntimeError\u001b[0m                              Traceback (most recent call last)",
      "Cell \u001b[1;32mIn[31], line 2\u001b[0m\n\u001b[0;32m      1\u001b[0m A \u001b[38;5;241m=\u001b[39m torch\u001b[38;5;241m.\u001b[39marange(\u001b[38;5;241m20\u001b[39m,dtype\u001b[38;5;241m=\u001b[39mtorch\u001b[38;5;241m.\u001b[39mfloat32)\u001b[38;5;241m.\u001b[39mreshape(\u001b[38;5;241m5\u001b[39m,\u001b[38;5;241m4\u001b[39m)\n\u001b[1;32m----> 2\u001b[0m A\u001b[38;5;241m/\u001b[39mA\u001b[38;5;241m.\u001b[39msum(axis\u001b[38;5;241m=\u001b[39m\u001b[38;5;241m1\u001b[39m)\n",
      "\u001b[1;31mRuntimeError\u001b[0m: The size of tensor a (4) must match the size of tensor b (5) at non-singleton dimension 1"
     ]
    }
   ],
   "source": [
    "\n",
    "A = torch.arange(20,dtype=torch.float32).reshape(5,4)\n",
    "A/A.sum(axis=1)\n"
   ]
  },
  {
   "cell_type": "markdown",
   "id": "7a6be4bd-274c-4b1f-a1c1-bdd5cd6ef489",
   "metadata": {},
   "source": [
    "\n",
    "> RuntimeError: The size of tensor a (4) must match the size of tensor b (5) at non-singleton dimension\n",
    "\n",
    "分析：A 是一个形状为 (5, 4) 的矩阵，而 A.sum(axis=1) 的结果是形状为 (5,) 的一维张量，即一个长度为 5 的向量。 根据广播规则，两个张量在进行逐元素操作时，它们的形状必须能够匹配。这里阵的第二维（列）大小为 4，而向量的大小为 5，它们无法匹配，所以报错了。\n"
   ]
  },
  {
   "attachments": {},
   "cell_type": "markdown",
   "id": "e4ca78a5",
   "metadata": {},
   "source": [
    "4. 生成一个形状为$(2,3,4)$服从标准正态分布的tensor $A$，对$A$在轴0、1、2上的分别求和，输出的结果是什么形状?"
   ]
  },
  {
   "cell_type": "code",
   "execution_count": 34,
   "id": "f12a7ec3-ed47-4341-b8ba-473734a386cd",
   "metadata": {},
   "outputs": [
    {
     "name": "stdout",
     "output_type": "stream",
     "text": [
      "torch.Size([2, 3, 4])\n",
      "torch.Size([3, 4])\n",
      "torch.Size([2, 4])\n",
      "torch.Size([2, 3])\n"
     ]
    }
   ],
   "source": [
    "\n",
    "A = torch.randn(2,3,4)\n",
    "\n",
    "axis0 = torch.sum(A,dim=0)\n",
    "axis1 = torch.sum(A,dim=1)\n",
    "axis2 = torch.sum(A,dim=2)\n",
    "\n",
    "print( A.shape)\n",
    "print(axis0.shape)\n",
    "print( axis1.shape)\n",
    "print( axis2.shape)"
   ]
  },
  {
   "attachments": {},
   "cell_type": "markdown",
   "id": "ad3f2120",
   "metadata": {},
   "source": [
    "5. 使$f(x)=\\sin(x+k)+\\exp(\\sqrt{k}x)+\\cos(x-k)$，利用torch自动微分绘制$f(x)$和$\\frac{df(x)}{dx}$的图像, $x$的取值范围为$x\\in[0, 10]$, $k$为`学号`最后两位数。"
   ]
  },
  {
   "cell_type": "code",
   "execution_count": 2,
   "id": "5451142f-b58c-48e7-9a23-a864fbc6a592",
   "metadata": {},
   "outputs": [
    {
     "data": {
      "image/png": "[encoded data removed]",
      "text/plain": [
       "<Figure size 1200x600 with 2 Axes>"
      ]
     },
     "metadata": {},
     "output_type": "display_data"
    }
   ],
   "source": [
    "import torch\n",
    "import matplotlib.pyplot as plt\n",
    "\n",
    "\n",
    "k = 84\n",
    "\n",
    "def f(x):\n",
    "    return torch.sin(x + torch.tensor(k)) + torch.exp(torch.sqrt(torch.tensor(k)) * x) + torch.cos(x - torch.tensor(k))\n",
    "\n",
    "x = torch.linspace(0, 10, 400, requires_grad=True)\n",
    "y = f(x)\n",
    "y.backward(torch.ones_like(x))\n",
    "dy_dx = x.grad\n",
    "\n",
    "plt.figure(figsize=(12, 6))\n",
    "\n",
    "plt.subplot(1, 2, 1)\n",
    "plt.plot(x.detach().numpy(), y.detach().numpy(), label=r'$f(x) = \\sin(x + 84) + \\exp(\\sqrt{84}x) + \\cos(x - 84)$')\n",
    "plt.title('Function f(x)')\n",
    "plt.xlabel('x')\n",
    "plt.ylabel('f(x)')\n",
    "plt.grid(True)\n",
    "plt.legend()\n",
    "\n",
    "plt.subplot(1, 2, 2)\n",
    "plt.plot(x.detach().numpy(), dy_dx.detach().numpy(), label=r'$\\frac{df(x)}{dx}$', color='orange')\n",
    "plt.title(\"Derivative of f(x)\")\n",
    "plt.xlabel('x')\n",
    "plt.ylabel(r'$\\frac{df(x)}{dx}$') \n",
    "plt.grid(True)\n",
    "plt.legend()\n",
    "\n",
    "plt.tight_layout()\n",
    "plt.show()"
   ]
  },
  {
   "cell_type": "code",
   "execution_count": null,
   "id": "e7183793-d991-476c-b945-724bf7b1ea58",
   "metadata": {},
   "outputs": [],
   "source": []
  }
 ],
 "metadata": {
  "kernelspec": {
   "display_name": "Python 3 (ipykernel)",
   "language": "python",
   "name": "python3"
  },
  "language_info": {
   "codemirror_mode": {
    "name": "ipython",
    "version": 3
   },
   "file_extension": ".py",
   "mimetype": "text/x-python",
   "name": "python",
   "nbconvert_exporter": "python",
   "pygments_lexer": "ipython3",
   "version": "3.12.7"
  },
  "required_libs": [],
  "vscode": {
   "interpreter": {
    "hash": "807cc6a481f25a5b222cd58a3949a299ed2f2634387eaba6775d5c01f71eeb59"
   }
  }
 },
 "nbformat": 4,
 "nbformat_minor": 5
}
